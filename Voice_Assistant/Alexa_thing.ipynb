{
 "cells": [
  {
   "cell_type": "code",
   "execution_count": 1,
   "id": "8ee47397-6fc0-432d-9ea0-2b59afb164ec",
   "metadata": {},
   "outputs": [],
   "source": [
    "import speech_recognition as sr"
   ]
  },
  {
   "cell_type": "code",
   "execution_count": 2,
   "id": "e95cb6d4-4bcf-4cc6-9d11-dd00264c8f7c",
   "metadata": {},
   "outputs": [],
   "source": [
    "import pyttsx3\n",
    "import pyaudio\n",
    "import subprocess"
   ]
  },
  {
   "cell_type": "code",
   "execution_count": 3,
   "id": "c9491ce3-7f7c-41b1-a787-18305306f21a",
   "metadata": {},
   "outputs": [],
   "source": [
    "engine = pyttsx3.init()\n",
    "engine.setProperty('rate', 125)\n",
    "engine.runAndWait()"
   ]
  },
  {
   "cell_type": "code",
   "execution_count": 5,
   "id": "cf07a78a-3bee-48a3-8b1f-10ae43568f29",
   "metadata": {},
   "outputs": [
    {
     "name": "stdout",
     "output_type": "stream",
     "text": [
      "Start speaking\n",
      "hip hop vlog\n",
      "Start speaking\n",
      "okay\n",
      "Start speaking\n",
      "bear stop\n",
      "Start speaking\n",
      "jungle wave\n",
      "Start speaking\n",
      "voice was not heard\n",
      "Start speaking\n",
      "voice was not heard\n",
      "Start speaking\n",
      "voice was not heard\n",
      "Start speaking\n",
      "bear stop\n",
      "Start speaking\n",
      "voice was not heard\n",
      "Start speaking\n",
      "vamp anthem\n",
      "Start speaking\n",
      "volume to the wrong one oh hell\n",
      "Start speaking\n",
      "voice was not heard\n",
      "Start speaking\n",
      "voice was not heard\n",
      "Start speaking\n",
      "bear stop\n",
      "Start speaking\n",
      "bye bye bear\n"
     ]
    }
   ],
   "source": [
    "# stop = threading.Event()\n",
    "# song_path = \" \"\n",
    "# def play_audio_thread(song_path):\n",
    "#     while not stop.is_set():\n",
    "#         playsound.playsound(song_path)\n",
    "#         if stop.is_set():\n",
    "#             break\n",
    "listener = sr.Recognizer()\n",
    "while True:\n",
    "    try:\n",
    "        with sr.Microphone() as source:\n",
    "                print(\"Start speaking\")\n",
    "                voice = listener.listen(source)\n",
    "                command = listener.recognize_google(voice)\n",
    "                command = command.lower()\n",
    "                print(command)\n",
    "                if \"hi bear\" in command:\n",
    "                    print(\"HI\")\n",
    "                    engine.say(\"Hello\")\n",
    "                if \"amsterdam night\" in command:\n",
    "                    # audio_thread = threading.Thread(target=play_audio_thread, args=(\"/Users/saurabh/Downloads/night-amsterdam-synth-pop-background-music-for-vlog-video-stories-382427.mp3\"))\n",
    "                    process = subprocess.Popen([\"afplay\", \"/Users/saurabh/Downloads/night-amsterdam-synth-pop-background-music-for-vlog-video-stories-382427.mp3\"])\n",
    "                if \"upbeat summer pop\" in command:\n",
    "                    process = subprocess.Popen([\"afplay\", \"/Users/saurabh/Downloads/upbeat-summer-pop-music-368301.mp3\"])\n",
    "                if \"jungle wave\" in command:\n",
    "                    process = subprocess.Popen([\"afplay\", \"/Users/saurabh/Downloads/jungle-waves-drumampbass-electronic-inspiring-promo-345013.mp3\"])\n",
    "                if \"hip hop vlog\" in command:\n",
    "                    process = subprocess.Popen([\"afplay\", \"/Users/saurabh/Downloads/cinematic-hip-hop-vlog-music-349853.mp3\"])\n",
    "                if \"vamp anthem\" in command:\n",
    "                    process = subprocess.Popen([\"afplay\", \"/Users/saurabh/Downloads/12.Vamp_Anthem.mp3\"])\n",
    "                if \"bear stop\" in command:\n",
    "                    process.terminate()\n",
    "                if \"bye bear\" in command:\n",
    "                    break\n",
    "    except:\n",
    "        print(\"voice was not heard\")"
   ]
  }
 ],
 "metadata": {
  "kernelspec": {
   "display_name": "Python [conda env:base] *",
   "language": "python",
   "name": "conda-base-py"
  },
  "language_info": {
   "codemirror_mode": {
    "name": "ipython",
    "version": 3
   },
   "file_extension": ".py",
   "mimetype": "text/x-python",
   "name": "python",
   "nbconvert_exporter": "python",
   "pygments_lexer": "ipython3",
   "version": "3.13.5"
  }
 },
 "nbformat": 4,
 "nbformat_minor": 5
}
