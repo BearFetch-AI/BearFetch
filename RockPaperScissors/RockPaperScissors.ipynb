{
 "cells": [
  {
   "cell_type": "code",
   "execution_count": 1,
   "id": "9b35f2c7-1795-416e-8f16-6068de7b3624",
   "metadata": {},
   "outputs": [],
   "source": [
    "import random\n",
    "import tkinter as tk"
   ]
  },
  {
   "cell_type": "code",
   "execution_count": null,
   "id": "3d781c03-cbbf-45b8-a58a-1ac3cc42283c",
   "metadata": {},
   "outputs": [],
   "source": []
  },
  {
   "cell_type": "code",
   "execution_count": 2,
   "id": "8347fa97-02c0-4e0b-b232-b1faf4378dff",
   "metadata": {},
   "outputs": [],
   "source": [
    "# Paper beats Rock\n",
    "# Scissors beats Paper\n",
    "# Rock beats Scissors\n",
    "# Rock and Rock tie\n",
    "# Paper and Paper tie\n",
    "# Scissors and Scissors tie"
   ]
  },
  {
   "cell_type": "code",
   "execution_count": 3,
   "id": "f0f838a1-279f-4984-8b8d-d232065a345c",
   "metadata": {},
   "outputs": [],
   "source": [
    "def play(user_val):\n",
    "    # 1 is Rock, 2 is Paper, 3 is Scissors\n",
    "    bot_val = random.randint(1,3)\n",
    "    if (user_val.lower() == \"r\" and bot_val == 3) or (user_val.lower() == \"p\" and bot_val == 1) or (user_val.lower() == \"s\" and bot_val == 2):\n",
    "        result = \"Player wins!\"\n",
    "    elif (user_val.lower() == \"r\" and bot_val == 2) or (user_val.lower() == \"p\" and bot_val == 3) or (user_val.lower() == \"s\" and bot_val == 1):\n",
    "        result = \"Player loses!\"\n",
    "    else:\n",
    "        result = \"You tied!\"\n",
    "    print(result)\n",
    "    resultvar.set(result)"
   ]
  },
  {
   "cell_type": "code",
   "execution_count": 4,
   "id": "7f8c854b-8685-4b4b-9ee3-381b112dce64",
   "metadata": {},
   "outputs": [
    {
     "data": {
      "text/plain": [
       "''"
      ]
     },
     "execution_count": 4,
     "metadata": {},
     "output_type": "execute_result"
    }
   ],
   "source": [
    "window = tk.Tk()\n",
    "window.title(\"Rock Paper Scissors\")"
   ]
  },
  {
   "cell_type": "code",
   "execution_count": 5,
   "id": "962b03e7-3c7b-4b1e-af79-f0556f1f2583",
   "metadata": {},
   "outputs": [],
   "source": [
    "tk.Label(window, text=\"Choose your move:\", font=(\"Arial\", 18)).pack(pady=10)"
   ]
  },
  {
   "cell_type": "code",
   "execution_count": 6,
   "id": "f1b1f55c-5ba0-438b-a592-6bb978afef63",
   "metadata": {},
   "outputs": [],
   "source": [
    "button_frame = tk.Frame()\n",
    "button_frame.pack()"
   ]
  },
  {
   "cell_type": "code",
   "execution_count": 7,
   "id": "52a16ca6-0d94-4895-9acd-f4791fd654e3",
   "metadata": {},
   "outputs": [],
   "source": [
    "resultvar = tk.StringVar(window, value=\"Choose Rock, Paper, Scissors\")"
   ]
  },
  {
   "cell_type": "code",
   "execution_count": 8,
   "id": "5e002012-ba65-43f7-9082-c08bb4c17945",
   "metadata": {},
   "outputs": [],
   "source": [
    "tk.Button(button_frame, text=\"Rock\", width=10, command=lambda: play('r')).grid(row=0, column=0)\n",
    "tk.Button(button_frame, text=\"Paper\", width=10, command=lambda: play('p')).grid(row=0, column=1)\n",
    "tk.Button(button_frame, text=\"Scissors\", width=10, command=lambda: play('s')).grid(row=0, column=2)"
   ]
  },
  {
   "cell_type": "code",
   "execution_count": 9,
   "id": "adeec80d-1fbe-454e-ad4b-9f996ef347a3",
   "metadata": {},
   "outputs": [],
   "source": [
    "result_label = tk.Label(window, textvariable=resultvar, font=(\"Arial\", 18), pady=20)"
   ]
  },
  {
   "cell_type": "code",
   "execution_count": 10,
   "id": "4bae2108-1ae3-4c68-bfb6-02533d89c1d3",
   "metadata": {},
   "outputs": [],
   "source": [
    "result_label.pack()"
   ]
  },
  {
   "cell_type": "code",
   "execution_count": 11,
   "id": "12b63c1e-0548-41e9-b78e-636670f7c19a",
   "metadata": {},
   "outputs": [
    {
     "name": "stdout",
     "output_type": "stream",
     "text": [
      "You tied!\n",
      "Player wins!\n",
      "You tied!\n"
     ]
    }
   ],
   "source": [
    "window.mainloop()"
   ]
  }
 ],
 "metadata": {
  "kernelspec": {
   "display_name": "anaconda-ml-ai",
   "language": "python",
   "name": "conda-env-anaconda-ml-ai"
  },
  "language_info": {
   "codemirror_mode": {
    "name": "ipython",
    "version": 3
   },
   "file_extension": ".py",
   "mimetype": "text/x-python",
   "name": "python",
   "nbconvert_exporter": "python",
   "pygments_lexer": "ipython3",
   "version": "3.10.13"
  }
 },
 "nbformat": 4,
 "nbformat_minor": 5
}
